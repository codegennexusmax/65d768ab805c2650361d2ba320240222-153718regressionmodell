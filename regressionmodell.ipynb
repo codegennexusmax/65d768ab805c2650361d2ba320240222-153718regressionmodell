{
 "cells": [
  {
   "cell_type": "markdown",
   "id": "90af81eb",
   "metadata": {},
   "source": [
    "***GENERATED CODE FOR regressionmodell PIPELINE.***"
   ]
  },
  {
   "cell_type": "markdown",
   "id": "a68272d8",
   "metadata": {},
   "source": [
    "***DON'T EDIT THIS CODE.***"
   ]
  },
  {
   "cell_type": "markdown",
   "id": "1c5f1c99",
   "metadata": {},
   "source": [
    "***CONNECTOR FUNCTIONS TO READ DATA.***"
   ]
  },
  {
   "cell_type": "code",
   "execution_count": null,
   "id": "a4da1b25",
   "metadata": {},
   "outputs": [],
   "source": [
    "import os\n",
    "import datetime\n",
    "import logging\n",
    "import warnings\n",
    "warnings.filterwarnings('ignore')\n",
    "logging.basicConfig(format='%(levelname)s:%(message)s', level=logging.INFO)\n",
    "\n",
    "\n",
    "class HDFSConnector:\n",
    "\n",
    "    def fetch(spark, config):\n",
    "        ################### INPUT HADOOP HOST PORT TO CONNECT WITH ###############################\n",
    "        hdfs_server = str(os.environ['HDFS_SERVER'])\n",
    "        hdfs_port = int(os.environ['HDFS_PORT'])\n",
    "        df = spark.read.options(header='true', inferschema='true').csv(\n",
    "            f\"hdfs://{hdfs_server}:{hdfs_port}{eval(config)['url']}\", header='true')\n",
    "        display(df.limit(2).toPandas())\n",
    "        return df\n",
    "\n",
    "    def put(df, spark, config):\n",
    "        return df.write.format('csv').options(header='true' if eval(config)[\"is_header\"] == \"Use Header Line\" else 'false',\n",
    "                                              delimiter=eval(config)[\"delimiter\"]).save((\"%s %s\") % (datetime.datetime.now().strftime(\"%Y-%m-%d %H.%M.%S\")+\"_\", eval(config)['url']))\n"
   ]
  },
  {
   "cell_type": "markdown",
   "id": "be894588",
   "metadata": {},
   "source": [
    "***TRANSFORMATIONS FUNCTIONS THAT WILL BE APPLIED ON DATA***"
   ]
  },
  {
   "cell_type": "code",
   "execution_count": null,
   "id": "6e3088ad",
   "metadata": {},
   "outputs": [],
   "source": [
    "import json\n",
    "from pyspark.sql.functions import col, when\n",
    "from pyspark.sql.functions import mean, stddev, min, max, col\n",
    "\n",
    "\n",
    "class CleanseData:\n",
    "    # def __init__(self,df):\n",
    "    #     #print()\n",
    "\n",
    "    def cleanValueForFE(self, value):\n",
    "        if value == None:\n",
    "            return \"\"\n",
    "        elif str(value) == 'nan':\n",
    "            return \"nan\"\n",
    "        else:\n",
    "            return value\n",
    "\n",
    "    def replaceByMean(self, feature, df, mean_=-1):\n",
    "        df1 = df\n",
    "        df1 = df1.dropna()\n",
    "        meanValue = self.cleanValueForFE(df1.select(\n",
    "            mean(col(feature.name)).alias('mean')).collect()[0][\"mean\"])\n",
    "        df = df.fillna(meanValue, subset=[feature.name])\n",
    "        df.withColumn(feature.name, when(col(feature.name) == \" \",\n",
    "                      meanValue).otherwise(col(feature.name).cast(\"Integer\")))\n",
    "        return df\n",
    "\n",
    "    def replaceByMax(self, feature, df, max_=-1):\n",
    "        df1 = df\n",
    "        df1 = df1.dropna()\n",
    "        maxValue = self.cleanValueForFE(df1.select(\n",
    "            max(col(feature.name)).alias('max')).collect()[0][\"max\"])\n",
    "        df = df.fillna(maxValue, subset=[feature.name])\n",
    "        df = df.withColumn(feature.name,\n",
    "                           when(col(feature.name) == \" \", maxValue).otherwise(col(feature.name)))\n",
    "        return df\n",
    "\n",
    "    def replaceByMin(self, feature, df, min_=-1):\n",
    "        df1 = df\n",
    "        df1 = df1.dropna()\n",
    "        minValue = self.cleanValueForFE(df1.select(\n",
    "            min(col(feature.name)).alias('min')).collect()[0][\"min\"])\n",
    "        df = df.fillna(minValue, subset=[feature.name])\n",
    "        df = df.withColumn(feature.name,\n",
    "                           when(col(feature.name) == \" \", minValue).otherwise(col(feature.name)))\n",
    "        return df\n",
    "\n",
    "    def replaceByStandardDeviation(self, feature, df, stddev_=-1):\n",
    "        df1 = df\n",
    "        df1 = df1.dropna()\n",
    "        stddevValue = self.cleanValueForFE(df1.select(\n",
    "            stddev(col(feature.name)).alias('stddev')).collect()[0][\"stddev\"])\n",
    "        df = df.fillna(stddevValue, subset=[feature.name])\n",
    "        df = df.withColumn(feature.name,\n",
    "                           when(col(feature.name) == \" \", stddevValue).otherwise(col(feature.name)))\n",
    "        return df\n",
    "\n",
    "    def replaceDateRandomly(self, feature, df):\n",
    "        df1 = df\n",
    "        df1 = df1.dropna()\n",
    "        fillValue = self.cleanValueForFE(\n",
    "            df.where(col(feature.name).isNotNull()).head(1)[0][feature.name])\n",
    "        df = df.fillna(str(fillValue), subset=[feature.name])\n",
    "        df = df.withColumn(feature.name,\n",
    "                           when(col(feature.name) == \" \", fillValue).otherwise(col(feature.name)))\n",
    "        # print(\"CleanseData:replaceDateRandomly Schema : \", df.#printSchema())\n",
    "        return df\n",
    "\n",
    "    def replaceNullValues(self, fList, df):\n",
    "        featuresList = df.schema.fields\n",
    "        for featureObj in fList:\n",
    "            for feat in featuresList:\n",
    "                if featureObj[\"feature\"] in feat.name:\n",
    "                    featureName = feat\n",
    "                    if \"mean\" in featureObj[\"replaceby\"]:\n",
    "                        df = self.replaceByMean(featureName, df)\n",
    "                    elif \"max\" in featureObj[\"replaceby\"]:\n",
    "                        df = self.replaceByMax(featureName, df)\n",
    "                    elif \"min\" in featureObj[\"replaceby\"]:\n",
    "                        df = self.replaceByMin(featureName, df)\n",
    "                    elif \"stddev\" in featureObj[\"replaceby\"]:\n",
    "                        df = self.replaceByStandardDeviation(featureName, df)\n",
    "                    elif \"random\" in featureObj[\"replaceby\"]:\n",
    "                        df = self.replaceDateRandomly(featureName, df)\n",
    "        return df\n",
    "\n",
    "\n",
    "class TransformationMain:\n",
    "    # TODO: change df argument in run with following\n",
    "    def run(transformationDF, config):\n",
    "        configObj = json.loads(config)\n",
    "        featureData = configObj[\"FE\"]\n",
    "        transformationDF = CleanseData().replaceNullValues(featureData, transformationDF)\n",
    "        display(transformationDF.limit(2).toPandas())\n",
    "        return transformationDF\n"
   ]
  },
  {
   "cell_type": "markdown",
   "id": "c78d4b54",
   "metadata": {},
   "source": [
    "***AUTOML FUNCTIONS***"
   ]
  },
  {
   "cell_type": "code",
   "execution_count": null,
   "id": "0fcfec55",
   "metadata": {},
   "outputs": [],
   "source": [
    "from sklearn.model_selection import train_test_split\n",
    "from tpot import TPOTRegressor\n",
    "import pyspark\n",
    "\n",
    "\n",
    "def functionRegression(sparkDF, listOfFeatures, label):\n",
    "    sparkDF.persist(pyspark.StorageLevel.MEMORY_AND_DISK)\n",
    "    df = sparkDF.toPandas()\n",
    "    X = (df.drop(label, axis=1))[listOfFeatures].values\n",
    "    y = df[label].values\n",
    "    X_train, X_test, y_train, y_test = train_test_split(\n",
    "        X, y, random_state=1, test_size=0.1)\n",
    "    tpotModel = TPOTRegressor(verbosity=3, generations=10, max_time_mins=5,\n",
    "                              n_jobs=-1, random_state=25, population_size=15, use_dask=True)\n",
    "    tpotModel.fit(X_train, y_train)\n",
    "    display(\" Error rate of Model : %s\" % tpotModel.score(X_test, y_test))\n",
    "    data = {'model': tpotModel,\n",
    "            'X_test': X_test,\n",
    "            'y_test': y_test,\n",
    "            'label': label,\n",
    "            'columnNames': listOfFeatures}\n",
    "    return data\n"
   ]
  },
  {
   "cell_type": "markdown",
   "id": "fd2d21e9",
   "metadata": {},
   "source": [
    "***READING DATAFRAME***"
   ]
  },
  {
   "cell_type": "code",
   "execution_count": null,
   "id": "d8756b1b",
   "metadata": {},
   "outputs": [],
   "source": [
    "############## CREATE SPARK SESSION ############################ ENTER YOUR SPARK MASTER IP AND PORT TO CONNECT TO SERVER ################\n",
    "from pyspark.sql import SparkSession\n",
    "spark = SparkSession.builder.master('local[1]').getOrCreate()\n",
    "#%run regressionmodellHooks.ipynb\n",
    "try:\n",
    "\t#sourcePreExecutionHook()\n",
    "\n",
    "\tfiletobe = HDFSConnector.fetch(spark, \"{'url': '/FileStore/platform/uploadedSourceFiles/part-00000-0dbb47b3-d58c-4c1f-870a-6b4c1785dd73-c000.csv', 'filename': '1708615610Filetobe.csv', 'delimiter': ',', 'file_type': 'Delimeted', 'dbfs_token': '', 'dbfs_domain': '', 'FilePath': '/Amazon and Best Buy Electronics/Filetobe.csv', 'viewFileName': 'Filetobe.csv', 'is_header': 'Use Header Line', 'baseType': 'hdfs', 'server_url': '/numtraPlatform/NumtraPlatformV3/uploads/platform/', 'results_url': 'http://ml.colaberry.com:44040/api/read/hdfs'}\")\n",
    "\n",
    "except Exception as ex: \n",
    "\tlogging.error(ex)\n",
    "#spark.stop()\n"
   ]
  },
  {
   "cell_type": "markdown",
   "id": "eb026386",
   "metadata": {},
   "source": [
    "***TRANSFORMING DATAFRAME***"
   ]
  },
  {
   "cell_type": "code",
   "execution_count": null,
   "id": "e4cc5522",
   "metadata": {},
   "outputs": [],
   "source": [
    "#%run regressionmodellHooks.ipynb\n",
    "try:\n",
    "\t#transformationPreExecutionHook()\n",
    "\n",
    "\tregressionmodellautofe = TransformationMain.run(filetobe,json.dumps( {\"FE\": [{\"transformationsData\": [{\"transformation_label\": \"novalue\"}], \"feature\": \"reviewsdoRecommend\", \"transformation\": [{\"transformation\": \"novalue\", \"selectedAsDefault\": 1}], \"type\": \"numeric\", \"replaceby\": \"mean\", \"selected\": \"True\", \"stats\": {\"count\": \"5839\", \"mean\": \"0.74\", \"stddev\": \"0.44\", \"min\": \"0\", \"max\": \"1\", \"missing\": \"0\"}, \"updatedLabel\": \"reviewsdoRecommend\"}, {\"transformationsData\": [{\"transformation_label\": \"novalue\"}], \"feature\": \"reviewsnumHelpful\", \"transformation\": [{\"transformation\": \"novalue\", \"selectedAsDefault\": 1}], \"type\": \"numeric\", \"replaceby\": \"mean\", \"selected\": \"True\", \"stats\": {\"count\": \"5839\", \"mean\": \"0.55\", \"stddev\": \"3.14\", \"min\": \"0\", \"max\": \"128\", \"missing\": \"0\"}, \"updatedLabel\": \"reviewsnumHelpful\"}, {\"transformationsData\": [{\"transformation_label\": \"novalue\"}], \"feature\": \"reviewsrating\", \"transformation\": [{\"transformation\": \"novalue\", \"selectedAsDefault\": 1}], \"type\": \"numeric\", \"replaceby\": \"mean\", \"selected\": \"True\", \"stats\": {\"count\": \"5839\", \"mean\": \"4.38\", \"stddev\": \"1.0\", \"min\": \"1\", \"max\": \"5\", \"missing\": \"0\"}, \"updatedLabel\": \"reviewsrating\"}, {\"transformationsData\": [{\"transformation_label\": \"novalue\"}], \"feature\": \"id_stringindexer\", \"type\": \"real\", \"selected\": \"True\", \"replaceby\": \"mean\", \"stats\": {\"count\": \"5839\", \"mean\": \"9.87\", \"stddev\": \"10.3\", \"min\": \"0.0\", \"max\": \"47.0\", \"missing\": \"0\"}, \"transformation\": [{\"transformation\": \"novalue\", \"selectedAsDefault\": 1}], \"updatedLabel\": \"id_stringindexer\"}, {\"transformationsData\": [{\"transformation_label\": \"novalue\"}], \"feature\": \"asins_stringindexer\", \"type\": \"real\", \"selected\": \"True\", \"replaceby\": \"mean\", \"stats\": {\"count\": \"5839\", \"mean\": \"9.87\", \"stddev\": \"10.29\", \"min\": \"0.0\", \"max\": \"47.0\", \"missing\": \"0\"}, \"transformation\": [{\"transformation\": \"novalue\", \"selectedAsDefault\": 1}], \"updatedLabel\": \"asins_stringindexer\"}, {\"transformationsData\": [{\"transformation_label\": \"novalue\"}], \"feature\": \"brand_stringindexer\", \"type\": \"real\", \"selected\": \"True\", \"replaceby\": \"mean\", \"stats\": {\"count\": \"5839\", \"mean\": \"6.45\", \"stddev\": \"7.41\", \"min\": \"0.0\", \"max\": \"36.0\", \"missing\": \"0\"}, \"transformation\": [{\"transformation\": \"novalue\", \"selectedAsDefault\": 1}], \"updatedLabel\": \"brand_stringindexer\"}, {\"transformationsData\": [{\"transformation_label\": \"novalue\"}], \"feature\": \"categories_stringindexer\", \"type\": \"real\", \"selected\": \"True\", \"replaceby\": \"mean\", \"stats\": {\"count\": \"5839\", \"mean\": \"9.87\", \"stddev\": \"10.3\", \"min\": \"0.0\", \"max\": \"47.0\", \"missing\": \"0\"}, \"transformation\": [{\"transformation\": \"novalue\", \"selectedAsDefault\": 1}], \"updatedLabel\": \"categories_stringindexer\"}, {\"transformationsData\": [{\"transformation_label\": \"novalue\"}], \"feature\": \"colors_stringindexer\", \"type\": \"real\", \"selected\": \"True\", \"replaceby\": \"mean\", \"stats\": {\"count\": \"5839\", \"mean\": \"2.02\", \"stddev\": \"2.92\", \"min\": \"0.0\", \"max\": \"14.0\", \"missing\": \"0\"}, \"transformation\": [{\"transformation\": \"novalue\", \"selectedAsDefault\": 1}], \"updatedLabel\": \"colors_stringindexer\"}, {\"transformationsData\": [{\"transformation_label\": \"novalue\"}], \"feature\": \"dateAdded_dayofmonth\", \"transformation\": [{\"transformation\": \"novalue\", \"selectedAsDefault\": 1}], \"type\": \"numeric\", \"replaceby\": \"mean\", \"selected\": \"True\", \"stats\": {\"count\": \"5839\", \"mean\": \"17.31\", \"stddev\": \"6.89\", \"min\": \"2\", \"max\": \"31\", \"missing\": \"0\"}, \"updatedLabel\": \"dateAdded_dayofmonth\"}, {\"transformationsData\": [{\"transformation_label\": \"novalue\"}], \"feature\": \"dateAdded_month\", \"transformation\": [{\"transformation\": \"novalue\", \"selectedAsDefault\": 1}], \"type\": \"numeric\", \"replaceby\": \"mean\", \"selected\": \"True\", \"stats\": {\"count\": \"5839\", \"mean\": \"7.01\", \"stddev\": \"2.76\", \"min\": \"3\", \"max\": \"12\", \"missing\": \"0\"}, \"updatedLabel\": \"dateAdded_month\"}, {\"transformationsData\": [{\"transformation_label\": \"novalue\"}], \"feature\": \"dateAdded_year\", \"transformation\": [{\"transformation\": \"novalue\", \"selectedAsDefault\": 1}], \"type\": \"numeric\", \"replaceby\": \"mean\", \"selected\": \"True\", \"stats\": {\"count\": \"5839\", \"mean\": \"2015.53\", \"stddev\": \"0.9\", \"min\": \"2014\", \"max\": \"2018\", \"missing\": \"0\"}, \"updatedLabel\": \"dateAdded_year\"}, {\"transformationsData\": [{\"transformation_label\": \"novalue\"}], \"feature\": \"dateUpdated_dayofmonth\", \"transformation\": [{\"transformation\": \"novalue\", \"selectedAsDefault\": 1}], \"type\": \"numeric\", \"replaceby\": \"mean\", \"selected\": \"True\", \"stats\": {\"count\": \"5839\", \"mean\": \"19.4\", \"stddev\": \"10.32\", \"min\": \"1\", \"max\": \"31\", \"missing\": \"0\"}, \"updatedLabel\": \"dateUpdated_dayofmonth\"}, {\"transformationsData\": [{\"transformation_label\": \"novalue\"}], \"feature\": \"dateUpdated_month\", \"transformation\": [{\"transformation\": \"novalue\", \"selectedAsDefault\": 1}], \"type\": \"numeric\", \"replaceby\": \"mean\", \"selected\": \"True\", \"stats\": {\"count\": \"5839\", \"mean\": \"3.95\", \"stddev\": \"1.66\", \"min\": \"1\", \"max\": \"6\", \"missing\": \"0\"}, \"updatedLabel\": \"dateUpdated_month\"}, {\"transformationsData\": [{\"transformation_label\": \"novalue\"}], \"feature\": \"dateUpdated_year\", \"transformation\": [{\"transformation\": \"novalue\", \"selectedAsDefault\": 1}], \"type\": \"numeric\", \"replaceby\": \"mean\", \"selected\": \"True\", \"stats\": {\"count\": \"5839\", \"mean\": \"2018.0\", \"stddev\": \"0.0\", \"min\": \"2018\", \"max\": \"2018\", \"missing\": \"0\"}, \"updatedLabel\": \"dateUpdated_year\"}, {\"transformationsData\": [{\"transformation_label\": \"novalue\"}], \"feature\": \"dimension_stringindexer\", \"type\": \"real\", \"selected\": \"True\", \"replaceby\": \"mean\", \"stats\": {\"count\": \"5839\", \"mean\": \"6.14\", \"stddev\": \"7.19\", \"min\": \"0.0\", \"max\": \"32.0\", \"missing\": \"0\"}, \"transformation\": [{\"transformation\": \"novalue\", \"selectedAsDefault\": 1}], \"updatedLabel\": \"dimension_stringindexer\"}, {\"transformationsData\": [{\"transformation_label\": \"novalue\"}], \"feature\": \"ean_binarizer\", \"type\": \"real\", \"selected\": \"True\", \"replaceby\": \"mean\", \"stats\": {\"count\": \"5839\", \"mean\": \"0.0\", \"stddev\": \"0.0\", \"min\": \"0.0\", \"max\": \"0.0\", \"missing\": \"0\"}, \"transformation\": [{\"transformation\": \"novalue\", \"selectedAsDefault\": 1}], \"updatedLabel\": \"ean_binarizer\"}, {\"transformationsData\": [{\"transformation_label\": \"novalue\"}], \"feature\": \"imageURLs_stringindexer\", \"type\": \"real\", \"selected\": \"True\", \"replaceby\": \"mean\", \"stats\": {\"count\": \"5839\", \"mean\": \"9.87\", \"stddev\": \"10.29\", \"min\": \"0.0\", \"max\": \"47.0\", \"missing\": \"0\"}, \"transformation\": [{\"transformation\": \"novalue\", \"selectedAsDefault\": 1}], \"updatedLabel\": \"imageURLs_stringindexer\"}, {\"transformationsData\": [{\"transformation_label\": \"novalue\"}], \"feature\": \"keys_stringindexer\", \"type\": \"real\", \"selected\": \"True\", \"replaceby\": \"mean\", \"stats\": {\"count\": \"5839\", \"mean\": \"9.87\", \"stddev\": \"10.3\", \"min\": \"0.0\", \"max\": \"47.0\", \"missing\": \"0\"}, \"transformation\": [{\"transformation\": \"novalue\", \"selectedAsDefault\": 1}], \"updatedLabel\": \"keys_stringindexer\"}, {\"transformationsData\": [{\"transformation_label\": \"novalue\"}], \"feature\": \"manufacturer_stringindexer\", \"type\": \"real\", \"selected\": \"True\", \"replaceby\": \"mean\", \"stats\": {\"count\": \"5839\", \"mean\": \"2.71\", \"stddev\": \"4.01\", \"min\": \"0.0\", \"max\": \"22.0\", \"missing\": \"0\"}, \"transformation\": [{\"transformation\": \"novalue\", \"selectedAsDefault\": 1}], \"updatedLabel\": \"manufacturer_stringindexe...\"}, {\"transformationsData\": [{\"transformation_label\": \"novalue\"}], \"feature\": \"manufacturerNumber_stringindexer\", \"type\": \"real\", \"selected\": \"True\", \"replaceby\": \"mean\", \"stats\": {\"count\": \"5839\", \"mean\": \"9.87\", \"stddev\": \"10.29\", \"min\": \"0.0\", \"max\": \"47.0\", \"missing\": \"0\"}, \"transformation\": [{\"transformation\": \"novalue\", \"selectedAsDefault\": 1}], \"updatedLabel\": \"manufacturerNumber_string...\"}, {\"transformationsData\": [{\"transformation_label\": \"novalue\"}], \"feature\": \"name_stringindexer\", \"type\": \"real\", \"selected\": \"True\", \"replaceby\": \"mean\", \"stats\": {\"count\": \"5839\", \"mean\": \"9.87\", \"stddev\": \"10.3\", \"min\": \"0.0\", \"max\": \"47.0\", \"missing\": \"0\"}, \"transformation\": [{\"transformation\": \"novalue\", \"selectedAsDefault\": 1}], \"updatedLabel\": \"name_stringindexer\"}, {\"transformationsData\": [{\"transformation_label\": \"novalue\"}], \"feature\": \"primaryCategories_stringindexer\", \"transformation\": [{\"transformation\": \"novalue\", \"selectedAsDefault\": 1}], \"type\": \"numeric\", \"replaceby\": \"mean\", \"selected\": \"True\", \"stats\": {\"count\": \"5839\", \"mean\": \"0.0\", \"stddev\": \"0.0\", \"min\": \"0\", \"max\": \"0\", \"missing\": \"0\"}, \"updatedLabel\": \"primaryCategories_stringi...\"}, {\"transformationsData\": [{\"transformation_label\": \"novalue\"}], \"feature\": \"reviewsdate_dayofmonth\", \"transformation\": [{\"transformation\": \"novalue\", \"selectedAsDefault\": 1}], \"type\": \"numeric\", \"replaceby\": \"mean\", \"selected\": \"True\", \"stats\": {\"count\": \"5839\", \"mean\": \"15.82\", \"stddev\": \"8.55\", \"min\": \"1\", \"max\": \"31\", \"missing\": \"0\"}, \"updatedLabel\": \"reviewsdate_dayofmonth\"}, {\"transformationsData\": [{\"transformation_label\": \"novalue\"}], \"feature\": \"reviewsdate_month\", \"transformation\": [{\"transformation\": \"novalue\", \"selectedAsDefault\": 1}], \"type\": \"numeric\", \"replaceby\": \"mean\", \"selected\": \"True\", \"stats\": {\"count\": \"5839\", \"mean\": \"6.36\", \"stddev\": \"3.47\", \"min\": \"1\", \"max\": \"12\", \"missing\": \"0\"}, \"updatedLabel\": \"reviewsdate_month\"}, {\"transformationsData\": [{\"transformation_label\": \"novalue\"}], \"feature\": \"reviewsdate_year\", \"transformation\": [{\"transformation\": \"novalue\", \"selectedAsDefault\": 1}], \"type\": \"numeric\", \"replaceby\": \"mean\", \"selected\": \"True\", \"stats\": {\"count\": \"5839\", \"mean\": \"2015.98\", \"stddev\": \"1.39\", \"min\": \"2007\", \"max\": \"2018\", \"missing\": \"0\"}, \"updatedLabel\": \"reviewsdate_year\"}, {\"transformationsData\": [{\"transformation_label\": \"novalue\"}], \"feature\": \"reviewsdateSeen_stringindexer\", \"type\": \"real\", \"selected\": \"True\", \"replaceby\": \"mean\", \"stats\": {\"count\": \"5839\", \"mean\": \"112.99\", \"stddev\": \"194.28\", \"min\": \"0.0\", \"max\": \"910.0\", \"missing\": \"0\"}, \"transformation\": [{\"transformation\": \"novalue\", \"selectedAsDefault\": 1}], \"updatedLabel\": \"reviewsdateSeen_stringind...\"}, {\"transformationsData\": [{\"transformation_label\": \"novalue\"}], \"feature\": \"reviewssourceURLs_stringindexer\", \"type\": \"real\", \"selected\": \"True\", \"replaceby\": \"mean\", \"stats\": {\"count\": \"5839\", \"mean\": \"595.02\", \"stddev\": \"598.57\", \"min\": \"0.0\", \"max\": \"2301.0\", \"missing\": \"0\"}, \"transformation\": [{\"transformation\": \"novalue\", \"selectedAsDefault\": 1}], \"updatedLabel\": \"reviewssourceURLs_stringi...\"}, {\"transformationsData\": [{\"transformation_label\": \"novalue\"}], \"feature\": \"reviewstext_stringindexer\", \"type\": \"real\", \"selected\": \"True\", \"replaceby\": \"mean\", \"stats\": {\"count\": \"5839\", \"mean\": \"3543.16\", \"stddev\": \"2102.45\", \"min\": \"0.0\", \"max\": \"7204.0\", \"missing\": \"0\"}, \"transformation\": [{\"transformation\": \"novalue\", \"selectedAsDefault\": 1}], \"updatedLabel\": \"reviewstext_stringindexer\"}, {\"transformationsData\": [{\"transformation_label\": \"novalue\"}], \"feature\": \"reviewstitle_stringindexer\", \"type\": \"real\", \"selected\": \"True\", \"replaceby\": \"mean\", \"stats\": {\"count\": \"5839\", \"mean\": \"2103.77\", \"stddev\": \"1802.37\", \"min\": \"0.0\", \"max\": \"5546.0\", \"missing\": \"0\"}, \"transformation\": [{\"transformation\": \"novalue\", \"selectedAsDefault\": 1}], \"updatedLabel\": \"reviewstitle_stringindexe...\"}, {\"transformationsData\": [{\"transformation_label\": \"novalue\"}], \"feature\": \"reviewsusername_stringindexer\", \"type\": \"real\", \"selected\": \"True\", \"replaceby\": \"mean\", \"stats\": {\"count\": \"5839\", \"mean\": \"2892.96\", \"stddev\": \"2026.95\", \"min\": \"0.0\", \"max\": \"6508.0\", \"missing\": \"0\"}, \"transformation\": [{\"transformation\": \"novalue\", \"selectedAsDefault\": 1}], \"updatedLabel\": \"reviewsusername_stringind...\"}, {\"transformationsData\": [{\"transformation_label\": \"novalue\"}], \"feature\": \"sourceURLs_stringindexer\", \"type\": \"real\", \"selected\": \"True\", \"replaceby\": \"mean\", \"stats\": {\"count\": \"5839\", \"mean\": \"11.57\", \"stddev\": \"17.09\", \"min\": \"0.0\", \"max\": \"176.0\", \"missing\": \"0\"}, \"transformation\": [{\"transformation\": \"novalue\", \"selectedAsDefault\": 1}], \"updatedLabel\": \"sourceURLs_stringindexer\"}]}))\n",
    "\n",
    "\t#transformationPostExecutionHook(regressionmodellautofe)\n",
    "\n",
    "except Exception as ex: \n",
    "\tlogging.error(ex)\n"
   ]
  },
  {
   "cell_type": "markdown",
   "id": "af44072d",
   "metadata": {},
   "source": [
    "***TRAIN MODEL***"
   ]
  },
  {
   "cell_type": "code",
   "execution_count": null,
   "id": "54a6b8b5",
   "metadata": {},
   "outputs": [],
   "source": [
    "#%run regressionmodellHooks.ipynb\n",
    "try:\n",
    "\t#mlPreExecutionHook()\n",
    "\n",
    "\tdataAutoML=functionRegression(regressionmodellautofe, [\"reviewsdoRecommend\", \"reviewsnumHelpful\", \"reviewsrating\", \"id_stringindexer\", \"asins_stringindexer\", \"brand_stringindexer\", \"categories_stringindexer\", \"colors_stringindexer\", \"dateAdded_dayofmonth\", \"dateAdded_month\", \"dateAdded_year\", \"dateUpdated_dayofmonth\", \"dateUpdated_month\", \"dateUpdated_year\", \"dimension_stringindexer\", \"ean_binarizer\", \"imageURLs_stringindexer\", \"keys_stringindexer\", \"manufacturer_stringindexer\", \"manufacturerNumber_stringindexer\", \"name_stringindexer\", \"primaryCategories_stringindexer\", \"reviewsdate_dayofmonth\", \"reviewsdate_month\", \"reviewsdate_year\", \"reviewsdateSeen_stringindexer\", \"reviewssourceURLs_stringindexer\", \"reviewstitle_stringindexer\", \"reviewsusername_stringindexer\", \"sourceURLs_stringindexer\"], \"reviewstext_stringindexer\")\n",
    "\n",
    "\t#mlPostExecutionHook(dataAutoML)\n",
    "\n",
    "except Exception as ex: \n",
    "\tlogging.error(ex)\n",
    "#spark.stop()\n"
   ]
  },
  {
   "cell_type": "markdown",
   "id": "7f38910a",
   "metadata": {},
   "source": [
    "***PREDICT ON TRAINED MODEL***"
   ]
  },
  {
   "cell_type": "code",
   "execution_count": null,
   "id": "74da1f83",
   "metadata": {},
   "outputs": [],
   "source": [
    "import pandas as pd\n",
    "import numpy as np\n",
    "import sklearn.metrics\n",
    "\n",
    "try:\n",
    "    model=dataAutoML ['model']\n",
    "    X_test=dataAutoML['X_test']\n",
    "    y_test=dataAutoML['y_test']\n",
    "    label=dataAutoML['label']\n",
    "    columnNames=dataAutoML['columnNames']\n",
    "    if label in columnNames:\n",
    "        columnNames.remove(label)\n",
    "    predicted=label+\"_predicted\"\n",
    "    y_predicted=model.predict(X_test)\n",
    "    df =pd.DataFrame(X_test , columns=columnNames)\n",
    "    df[label]=y_test\n",
    "    df[predicted]=y_predicted\n",
    "    columnNames.insert(0,predicted)\n",
    "    columnNames.insert(0,label)\n",
    "    df = df[columnNames]\n",
    "    R2 = np.round(sklearn.metrics.r2_score(y_test, y_predicted), 1)\n",
    "    Mean_Squared_Error = np.round(sklearn.metrics.mean_squared_error(y_test, y_predicted), 1)\n",
    "    Mean_Absolute_Error = np.round(sklearn.metrics.mean_absolute_error(y_test, y_predicted), 1)\n",
    "    display(\" R2 score of Prediction on test data    : %s\"%R2)\n",
    "    display(\" Mean Squared Error of Prediction on test data    : %s\"%Mean_Squared_Error)\n",
    "    display(\" Mean Absolute Error of Prediction on test data   : %s\"%Mean_Absolute_Error)\n",
    "    display(df.head())\n",
    "except Exception as ex:\n",
    "    logging.error(ex)\n",
    "\n",
    "spark.stop()\n",
    "\n"
   ]
  }
 ],
 "metadata": {},
 "nbformat": 4,
 "nbformat_minor": 5
}
